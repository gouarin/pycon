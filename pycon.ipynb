{
 "metadata": {
  "celltoolbar": "Slideshow",
  "name": "",
  "signature": "sha256:f0564200da3eca4d81175969e350bf77007ec28f14462bf6f29d24392e9243cd"
 },
 "nbformat": 3,
 "nbformat_minor": 0,
 "worksheets": [
  {
   "cells": [
    {
     "cell_type": "code",
     "collapsed": false,
     "input": [
      "from IPython.core.display import HTML\n",
      "css_file = './custom.css'\n",
      "HTML(open(css_file, \"r\").read())"
     ],
     "language": "python",
     "metadata": {
      "slideshow": {
       "slide_type": "skip"
      }
     },
     "outputs": [
      {
       "html": [
        "body {\n",
        "    font-size: 120%;\n",
        "    overflow:hidden;\n",
        "}\n",
        "\n",
        ".rendered_html{\n",
        " font-family:serif;\n",
        " line-height:1.5em;\n",
        " padding-top:7px;\n",
        "}\n",
        "\n",
        "div.highlight#pre {\n",
        "    font-size: 20pt;\n",
        "}\n",
        "\n",
        "div.prompt { /* remove In/Out prompt */\n",
        "    display: none;\n",
        "}\n",
        " \n",
        "div.cell.code_cell { /* area that contains code + output */\n",
        "    background: #fff;\n",
        "    border: none;\n",
        "    border-radius: 10px;\n",
        "    padding-top: 1ex;\n",
        "}\n",
        ".reveal strong {\n",
        "    color: blue;\n",
        "}\n",
        "\n",
        ".reveal h1 {\n",
        "text-shadow: 10px 10px 10px rgba(0, 0, 0, 0.2);\n",
        "}\n",
        "\n",
        ".reveal h2 {\n",
        "text-shadow: 10px 10px 10px rgba(0, 0, 0, 0.2);\n",
        "}\n",
        "\n",
        ".reveal h3 {\n",
        "text-shadow: 0px 0px 6px rgba(0, 0, 0, 0.2);\n",
        "}\n",
        "\n",
        "/* header colours and fonts */\n",
        ".rendered_html h1 { color: #444; font-style: bold; font-weight: normal; text-align: center; }\n",
        ".rendered_html h2 { color: #443; font-style: italic; font-weight: normal; text-align: center; }\n",
        ".rendered_html h3 { color: #444; font-style: italic; font-weight: normal}\n"
       ],
       "metadata": {},
       "output_type": "pyout",
       "prompt_number": 1,
       "text": [
        "<IPython.core.display.HTML at 0x16f0390>"
       ]
      }
     ],
     "prompt_number": 1
    },
    {
     "cell_type": "markdown",
     "metadata": {
      "slideshow": {
       "slide_type": "slide"
      }
     },
     "source": [
      "#Quelques id\u00e9es d'optimisation d'un code num\u00e9rique \u00e9crit en Python\n",
      "&nbsp;\n",
      "<center>\n",
      "Lo\u00efc Gouarin\n",
      "</center>\n",
      "<center>\n",
      "<img src=\"files/figures/banner.png\" style=\"width: 10%;\" />\n",
      "25 octobre 2014\n",
      "</center>\n"
     ]
    },
    {
     "cell_type": "markdown",
     "metadata": {
      "slideshow": {
       "slide_type": "slide"
      }
     },
     "source": [
      "## Les diff\u00e9rents outils pour le calcul"
     ]
    },
    {
     "cell_type": "markdown",
     "metadata": {
      "slideshow": {
       "slide_type": "subslide"
      }
     },
     "source": [
      "&nbsp;\n",
      "<center>\n",
      "<img src=\"files/figures/numpy.png\" style=\"width: 50%;\" />\n",
      "</center>"
     ]
    },
    {
     "cell_type": "markdown",
     "metadata": {
      "slideshow": {
       "slide_type": "slide"
      }
     },
     "source": [
      "## Pourquoi vouloir optimiser ?"
     ]
    },
    {
     "cell_type": "markdown",
     "metadata": {
      "slideshow": {
       "slide_type": "subslide"
      }
     },
     "source": [
      "Diff\u00e9rents facteurs font qu'un code num\u00e9rique \u00e9crit en Python peut souffrir de certaines lenteurs\n",
      "\n",
      "- l'aspect dynamique du langage\n",
      "- la cr\u00e9ation de tableaux temporaires\n",
      "- la non vectorisation des op\u00e9rations sur les tableaux\n",
      "- la pr\u00e9sence du GIL,\n",
      "- ..."
     ]
    },
    {
     "cell_type": "markdown",
     "metadata": {
      "slideshow": {
       "slide_type": "slide"
      }
     },
     "source": [
      "## Mon probl\u00e8me jouet"
     ]
    },
    {
     "cell_type": "markdown",
     "metadata": {
      "slideshow": {
       "slide_type": "subslide"
      }
     },
     "source": [
      "On s'int\u00e9resse ici \u00e0 la r\u00e9solution des \u00e9quations de Saint-Venant par une m\u00e9thode de Lattice Boltzmann appel\u00e9e $D_2Q_9$.\n",
      "\n",
      "&nbsp;\n",
      "<center>\n",
      "<video src=\"files/figures/shallow_water.ogv\"  style=\"width: 50%;\" />\n",
      "</center>"
     ]
    },
    {
     "cell_type": "markdown",
     "metadata": {
      "slideshow": {
       "slide_type": "subslide"
      }
     },
     "source": [
      "### Principe de la m\u00e9thode\n",
      "\n",
      "Elle est constitu\u00e9e de 3 \u00e9tapes simples\n",
      "\n",
      "- une phase de mise \u00e0 jour des points du bord\n",
      "- une phase de transport\n",
      "- une phase de collision\n"
     ]
    },
    {
     "cell_type": "markdown",
     "metadata": {
      "slideshow": {
       "slide_type": "subslide"
      }
     },
     "source": [
      "### La grille de calcul\n",
      "&nbsp;\n",
      "<center>\n",
      "<img src=\"files/figures/9velocities.png\" style=\"width: 70%;\" />\n",
      "</center>"
     ]
    },
    {
     "cell_type": "markdown",
     "metadata": {
      "slideshow": {
       "slide_type": "subslide"
      }
     },
     "source": [
      "### La phase de transport\n",
      "&nbsp;\n",
      "<center>\n",
      "<img src=\"files/figures/transport.png\" style=\"width: 70%;\" />\n",
      "</center>"
     ]
    },
    {
     "cell_type": "code",
     "collapsed": false,
     "input": [
      "def transport(f):\n",
      "    f[:, 1:, 1] = f[:, :-1, 1]\n",
      "    f[1:, :, 2] = f[:-1, :, 2]\n",
      "    ..."
     ],
     "language": "python",
     "metadata": {},
     "outputs": []
    },
    {
     "cell_type": "markdown",
     "metadata": {
      "slideshow": {
       "slide_type": "subslide"
      }
     },
     "source": [
      "### La phase de collision\n",
      "&nbsp;\n",
      "<center>\n",
      "<img src=\"files/figures/collision.png\" style=\"width: 70%;\" />\n",
      "</center>"
     ]
    },
    {
     "cell_type": "code",
     "collapsed": false,
     "input": [
      "def collision(f, m):\n",
      "    f2m(f, m)\n",
      "    relaxation(m)\n",
      "    m2f(m, f)\n",
      "    "
     ],
     "language": "python",
     "metadata": {},
     "outputs": []
    },
    {
     "cell_type": "markdown",
     "metadata": {
      "slideshow": {
       "slide_type": "subslide"
      }
     },
     "source": [
      "### La phase de collision\n",
      "&nbsp;\n",
      "<center>\n",
      "<img src=\"files/figures/collision.png\" style=\"width: 70%;\" />\n",
      "</center>"
     ]
    },
    {
     "cell_type": "code",
     "collapsed": false,
     "input": [
      "def relaxation(m):\n",
      "    m[:, :, 3] += c*(-2*m[:, :, 0] + 3.0*m[:, :, 1]**2 + 3.0*m[:, :, 2]**2 - m[:, :, 3])\n",
      "    m[:, :, 4] += c*(m[:, :, 0] + 1.5*m[:, :, 1]**2 + 1.5*m[:, :, 2]**2 - m[:, :, 4])\n",
      "    ..."
     ],
     "language": "python",
     "metadata": {},
     "outputs": []
    },
    {
     "cell_type": "markdown",
     "metadata": {
      "slideshow": {
       "slide_type": "subslide"
      }
     },
     "source": [
      "### Un pas de temps"
     ]
    },
    {
     "cell_type": "code",
     "collapsed": false,
     "input": [
      "def one_time_step(f, m):\n",
      "    periodic_bc(f)\n",
      "    transport(f)\n",
      "    f2m(f, m)\n",
      "    relaxation(m)\n",
      "    m2f(m, f)    "
     ],
     "language": "python",
     "metadata": {},
     "outputs": []
    },
    {
     "cell_type": "markdown",
     "metadata": {
      "slideshow": {
       "slide_type": "slide"
      }
     },
     "source": [
      "## Cython"
     ]
    },
    {
     "cell_type": "markdown",
     "metadata": {
      "slideshow": {
       "slide_type": "subslide"
      }
     },
     "source": [
      "### Principe g\u00e9n\u00e9ral\n",
      "&nbsp;\n",
      "<center>\n",
      "<img src=\"files/figures/cython.png\" style=\"width: 90%;\" />\n",
      "</center>\n",
      "\n",
      "D\u00e9finir des types statiques permettant \u00e0 Cython de comprendre que nous ne sommes plus dans une partie Python mais dans une partie pouvant \u00eatre \u00e9crite facilement en C et donc optimis\u00e9e."
     ]
    },
    {
     "cell_type": "markdown",
     "metadata": {
      "slideshow": {
       "slide_type": "subslide"
      }
     },
     "source": [
      "### Les \u00e9tapes\n",
      "\n",
      "- Faire un copier-coller de la fonction Python \u00e0 optimiser\n",
      "- Typer les variables de la fonction\n",
      "- D\u00e9rouler les boucles (si possible dans le bon sens)\n",
      "- Ajouter des directives permettant d'optimiser les acc\u00e8s aux tableaux NumPy"
     ]
    },
    {
     "cell_type": "markdown",
     "metadata": {
      "slideshow": {
       "slide_type": "subslide"
      }
     },
     "source": [
      "### Exemple sur le transport"
     ]
    },
    {
     "cell_type": "code",
     "collapsed": false,
     "input": [
      "def transport(f):\n",
      "    f[:, 1:, 1] = f[:, :-1, 1]\n",
      "    ..."
     ],
     "language": "python",
     "metadata": {},
     "outputs": []
    },
    {
     "cell_type": "markdown",
     "metadata": {},
     "source": [
      "<center>\n",
      "Copie de la fonction \u00e0 optimiser dans un fichier **pyx**.\n",
      "</center>"
     ]
    },
    {
     "cell_type": "code",
     "collapsed": false,
     "input": [
      "def transport(double[:, :, ::1] f):\n",
      "    f[:, 1:, 1] = f[:, :-1, 1]\n",
      "    ..."
     ],
     "language": "python",
     "metadata": {
      "slideshow": {
       "slide_type": "subslide"
      }
     },
     "outputs": []
    },
    {
     "cell_type": "markdown",
     "metadata": {},
     "source": [
      "<center>\n",
      "Typer les variables de la fonction.\n",
      "</center>"
     ]
    },
    {
     "cell_type": "code",
     "collapsed": false,
     "input": [
      "def transport(double[:, :, ::1] f):\n",
      "    cdef: \n",
      "        int i, j\n",
      "        int nx = f.shape[0]\n",
      "        int ny = f.shape[1]\n",
      "\n",
      "    for i in xrange(nx-1, 0, -1):\n",
      "        for j in xrange(ny):\n",
      "            f[i, j, 1] = f[i-1, j, 1]\n",
      "    ..."
     ],
     "language": "python",
     "metadata": {
      "slideshow": {
       "slide_type": "subslide"
      }
     },
     "outputs": []
    },
    {
     "cell_type": "markdown",
     "metadata": {},
     "source": [
      "<center>\n",
      "D\u00e9rouler les boucles.\n",
      "</center>"
     ]
    },
    {
     "cell_type": "code",
     "collapsed": false,
     "input": [
      "@cython.boundscheck(False)\n",
      "@cython.wraparound(False)\n",
      "@cython.cdivision(True)\n",
      "def transport(double[:, :, ::1] f):\n",
      "    cdef: \n",
      "        int i, j\n",
      "        int nx = f.shape[0]\n",
      "        int ny = f.shape[1]\n",
      "\n",
      "    for i in xrange(nx-1, 0, -1):\n",
      "        for j in xrange(ny):\n",
      "            f[i, j, 1] = f[i-1, j, 1]\n",
      "    ..."
     ],
     "language": "python",
     "metadata": {
      "slideshow": {
       "slide_type": "subslide"
      }
     },
     "outputs": []
    },
    {
     "cell_type": "markdown",
     "metadata": {},
     "source": [
      "<center>\n",
      "Ajout des directives.\n",
      "</center>"
     ]
    },
    {
     "cell_type": "markdown",
     "metadata": {
      "slideshow": {
       "slide_type": "slide"
      }
     },
     "source": [
      "## Just In Time"
     ]
    },
    {
     "cell_type": "markdown",
     "metadata": {
      "slideshow": {
       "slide_type": "subslide"
      }
     },
     "source": [
      "- numba\n",
      "- parakeet\n",
      "- pythran (\"Ahead Of Time\")\n",
      "- ..."
     ]
    },
    {
     "cell_type": "markdown",
     "metadata": {
      "slideshow": {
       "slide_type": "subslide"
      }
     },
     "source": [
      "### Principe g\u00e9n\u00e9ral\n",
      "\n",
      "- se branche sur le module \u00e9crit en Python\n",
      "- ajout d'un d\u00e9corateur ou d'un commentaire sur la fonction \u00e0 optimiser\n",
      "- construction d'un graphe de flot de contr\u00f4le\n",
      "- recherche des types des variables par inf\u00e9rence\n",
      "- optimisation de la fonction"
     ]
    },
    {
     "cell_type": "markdown",
     "metadata": {
      "slideshow": {
       "slide_type": "subslide"
      }
     },
     "source": [
      "### numba et parakeet"
     ]
    },
    {
     "cell_type": "code",
     "collapsed": false,
     "input": [
      "from parakeet import jit\n",
      "\n",
      "@jit\n",
      "def transport(f):\n",
      "    ..."
     ],
     "language": "python",
     "metadata": {},
     "outputs": []
    },
    {
     "cell_type": "code",
     "collapsed": false,
     "input": [
      "from numba import jit\n",
      "\n",
      "@jit(\"void(f8[:,:,:])\")\n",
      "def transport(f):\n",
      "    ..."
     ],
     "language": "python",
     "metadata": {},
     "outputs": []
    },
    {
     "cell_type": "markdown",
     "metadata": {
      "slideshow": {
       "slide_type": "subslide"
      }
     },
     "source": [
      "<center>\n",
      "<img src=\"files/figures/numba.png\" style=\"width: 100%;\" />\n",
      "</center>"
     ]
    },
    {
     "cell_type": "markdown",
     "metadata": {
      "slideshow": {
       "slide_type": "subslide"
      }
     },
     "source": [
      "### pythran"
     ]
    },
    {
     "cell_type": "code",
     "collapsed": false,
     "input": [
      "#pythran export transport(float[][][])\n",
      "def transport(f):\n",
      "    ..."
     ],
     "language": "python",
     "metadata": {},
     "outputs": []
    },
    {
     "cell_type": "markdown",
     "metadata": {
      "slideshow": {
       "slide_type": "subslide"
      }
     },
     "source": [
      "<center>\n",
      "<img src=\"files/figures/pythran.png\" style=\"width: 100%;\" />\n",
      "</center>"
     ]
    },
    {
     "cell_type": "markdown",
     "metadata": {
      "slideshow": {
       "slide_type": "slide"
      }
     },
     "source": [
      "## Benchmarks"
     ]
    },
    {
     "cell_type": "markdown",
     "metadata": {
      "slideshow": {
       "slide_type": "subslide"
      }
     },
     "source": [
      "On prend notre sch\u00e9ma $D_2Q_9$ sur une grille de taille $1024\\times 1024$ et on r\u00e9alise \u00e0 chaque fois 100 essais sur les fonctions test\u00e9es. On calcule le temps moyen.\n",
      "\n",
      "**Versions utilis\u00e9es**\n",
      "\n",
      "- NumPy 1.9.0\n",
      "- Cython 0.20.1\n",
      "- Numba 0.15.1\n",
      "- Parakeet 0.23.2\n",
      "- pythran 0.6\n",
      "\n",
      "Attention: le stockage de **f** et de **m** est *(ns, nx, ny)* pour NumPy et *(nx, ny, ns)* pour Numba, parakeet, pythran et Cython."
     ]
    },
    {
     "cell_type": "markdown",
     "metadata": {
      "slideshow": {
       "slide_type": "subslide"
      }
     },
     "source": [
      "### En conservant l'\u00e9criture vectorielle de NumPy\n",
      "&nbsp;\n",
      "<center>\n",
      "<img src=\"files/figures/vec_naive.png\" style=\"width: 100%;\" />\n",
      "</center>"
     ]
    },
    {
     "cell_type": "markdown",
     "metadata": {
      "slideshow": {
       "slide_type": "subslide"
      }
     },
     "source": [
      "### En utilisant des boucles\n",
      "&nbsp;\n",
      "<center>\n",
      "<img src=\"files/figures/loop_naive.png\" style=\"width: 100%;\" />\n",
      "**x4** par rapport \u00e0 NumPy\n",
      "</center>"
     ]
    },
    {
     "cell_type": "markdown",
     "metadata": {
      "slideshow": {
       "slide_type": "slide"
      }
     },
     "source": [
      "## Peut-on encore optimiser ?"
     ]
    },
    {
     "cell_type": "markdown",
     "metadata": {
      "slideshow": {
       "slide_type": "subslide"
      }
     },
     "source": [
      "On reprend la phase de transport.\n",
      "&nbsp;\n",
      "<center>\n",
      "<img src=\"files/figures/transport.png\" style=\"width: 70%;\" />\n",
      "</center>"
     ]
    },
    {
     "cell_type": "code",
     "collapsed": false,
     "input": [
      "def one_time_step(f1, f2):\n",
      "    nx, ny, ns = f1.shape\n",
      "    floc = np.zeros(ns)    \n",
      "    mloc = np.zeros(ns)    \n",
      "    \n",
      "    periodic_bc(f1)\n",
      "    for i in range(1, nx-1):\n",
      "        for j in range(1, ny-1):\n",
      "            getf(f1, floc, i, j)\n",
      "            f2m_loc(floc, mloc)\n",
      "            relaxation_loc(mloc)\n",
      "            m2f_loc(mloc, floc)\n",
      "            setf(f2, floc, i, j)\n",
      "        "
     ],
     "language": "python",
     "metadata": {
      "slideshow": {
       "slide_type": "subslide"
      }
     },
     "outputs": []
    },
    {
     "cell_type": "markdown",
     "metadata": {
      "slideshow": {
       "slide_type": "subslide"
      }
     },
     "source": [
      "<center>\n",
      "<img src=\"files/figures/fast.png\" style=\"width: 80%;\" />\n",
      "**x10** par rapport \u00e0 NumPy pour **Pythran**\n",
      "</center>\n",
      "<center>\n",
      "**x40** pour la version **Cython avec openMP**\n",
      "</center>"
     ]
    },
    {
     "cell_type": "markdown",
     "metadata": {
      "slideshow": {
       "slide_type": "slide"
      }
     },
     "source": [
      "## Conclusion\n",
      "\n",
      "- L'optimisation n'est plus le travail du d\u00e9veloppeur Python.\n",
      "- Les JIT bien que jeunes sont performants.\n",
      "- Ils peuvent faire plus que Cython (?).\n",
      "- Support pour openMP et GPU encore l\u00e9ger."
     ]
    },
    {
     "cell_type": "markdown",
     "metadata": {
      "slideshow": {
       "slide_type": "slide"
      }
     },
     "source": [
      "##Plus de benchmarks\n",
      "\n",
      "https://github.com/serge-sans-paille/numpy-benchmarks\n"
     ]
    },
    {
     "cell_type": "markdown",
     "metadata": {
      "slideshow": {
       "slide_type": "slide"
      }
     },
     "source": [
      "# Questions ?"
     ]
    }
   ],
   "metadata": {}
  }
 ]
}